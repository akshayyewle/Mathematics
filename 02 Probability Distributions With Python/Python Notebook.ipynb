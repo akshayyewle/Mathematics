{
 "cells": [
  {
   "cell_type": "code",
   "execution_count": 1,
   "metadata": {},
   "outputs": [
    {
     "name": "stdout",
     "output_type": "stream",
     "text": [
      "The probability of success is 90.41%\n"
     ]
    }
   ],
   "source": [
    "from scipy.stats import beta\n",
    "a = 24  # success days\n",
    "b = 6  # failure days\n",
    "prob_success = beta.cdf(0.95, a, b) - beta.cdf(0.7, a, b)\n",
    "print(f\"The probability of success is {prob_success:.2%}\")\n",
    "# The probability of success is 90.41%"
   ]
  }
 ],
 "metadata": {
  "kernelspec": {
   "display_name": "Python 3",
   "language": "python",
   "name": "python3"
  },
  "language_info": {
   "codemirror_mode": {
    "name": "ipython",
    "version": 3
   },
   "file_extension": ".py",
   "mimetype": "text/x-python",
   "name": "python",
   "nbconvert_exporter": "python",
   "pygments_lexer": "ipython3",
   "version": "3.11.6"
  }
 },
 "nbformat": 4,
 "nbformat_minor": 2
}
